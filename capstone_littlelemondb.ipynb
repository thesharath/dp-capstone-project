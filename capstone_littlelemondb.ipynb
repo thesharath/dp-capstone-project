{
 "cells": [
  {
   "cell_type": "code",
   "execution_count": 1,
   "id": "c657c695-ab17-428c-a6d1-7a3841f0f7eb",
   "metadata": {},
   "outputs": [
    {
     "name": "stdout",
     "output_type": "stream",
     "text": [
      "Connected to MySQL database\n"
     ]
    }
   ],
   "source": [
    "import mysql.connector as mc\n",
    "from mysql.connector import Error\n",
    "\n",
    "# Replace these values with your actual database information\n",
    "db_config = {\n",
    "    'host': '127.0.0.1',\n",
    "    'user': 'root',\n",
    "    'password': 'root',\n",
    "    'database': 'littlelemondb'\n",
    "}\n",
    "\n",
    "try:\n",
    "    # Establish the connection\n",
    "    connection = mc.connect(**db_config)\n",
    "\n",
    "    if connection.is_connected():\n",
    "        print('Connected to MySQL database')\n",
    "\n",
    "        # Perform database operations here\n",
    "\n",
    "except mc.Error as err:\n",
    "    print(f\"Error: {err}\")\n",
    "\n"
   ]
  },
  {
   "cell_type": "code",
   "execution_count": 3,
   "id": "6bacf12a-7a25-4f6f-9cf2-1a8fb2201642",
   "metadata": {},
   "outputs": [],
   "source": [
    "cursor = connection.cursor(buffered=True)\n",
    "\n",
    "str_check = \"\"\"use littlelemondb;\"\"\"\n",
    "\n",
    "cursor.execute(str_check)"
   ]
  },
  {
   "cell_type": "code",
   "execution_count": 9,
   "id": "b9bbbb0c-d3d2-4158-a21a-182eafb27a68",
   "metadata": {},
   "outputs": [
    {
     "name": "stdout",
     "output_type": "stream",
     "text": [
      "('Tables_in_littlelemondb',)\n",
      "('booking_details',)\n",
      "('bookings',)\n",
      "('menu',)\n",
      "('menuitems',)\n",
      "('order_cost',)\n",
      "('orders',)\n",
      "('orders_more_than_one',)\n",
      "('staff',)\n"
     ]
    }
   ],
   "source": [
    "str_check = \"\"\"show tables;\"\"\"\n",
    "\n",
    "cursor.execute(str_check)\n",
    "results = cursor.fetchall()\n",
    "print(cursor.column_names)\n",
    "for x in results:\n",
    "    print(x)\n"
   ]
  },
  {
   "cell_type": "code",
   "execution_count": 11,
   "id": "45e85599-4387-49b5-be82-1c3b260485d8",
   "metadata": {},
   "outputs": [
    {
     "name": "stdout",
     "output_type": "stream",
     "text": [
      "('GuestName', 'ContactNo')\n",
      "('michael michael', '9172398712')\n",
      "('boon boon', '9172398712')\n",
      "('border border', '9172398712')\n",
      "('crone crone', '9172398712')\n",
      "('symmonds symmonds', '9172398712')\n",
      "('gilchrist gilchrist', '9172398712')\n",
      "('mcgrath mcgrath', '9172398712')\n",
      "('warne warne', '9172398712')\n",
      "('brett brett', '9172398712')\n"
     ]
    }
   ],
   "source": [
    "str_check = \"\"\"select concat(bookings.GuestFirstName,' ',bookings.GuestFirstName) as 'GuestName',\n",
    "'9172398712' as 'ContactNo'\n",
    "from bookings inner join orders on bookings.BookingID = orders.BookingID where orders.BillAmount > 60;\"\"\"\n",
    "\n",
    "cursor.execute(str_check)\n",
    "results = cursor.fetchall()\n",
    "print(cursor.column_names)\n",
    "for x in results:\n",
    "    print(x)"
   ]
  },
  {
   "cell_type": "code",
   "execution_count": null,
   "id": "d0632b2c-22f7-472f-8bc4-5bb66a732281",
   "metadata": {},
   "outputs": [],
   "source": []
  }
 ],
 "metadata": {
  "kernelspec": {
   "display_name": "Python 3 (ipykernel)",
   "language": "python",
   "name": "python3"
  },
  "language_info": {
   "codemirror_mode": {
    "name": "ipython",
    "version": 3
   },
   "file_extension": ".py",
   "mimetype": "text/x-python",
   "name": "python",
   "nbconvert_exporter": "python",
   "pygments_lexer": "ipython3",
   "version": "3.10.11"
  }
 },
 "nbformat": 4,
 "nbformat_minor": 5
}
